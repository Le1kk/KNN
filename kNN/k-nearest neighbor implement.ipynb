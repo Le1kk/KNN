{
 "cells": [
  {
   "cell_type": "code",
   "execution_count": 39,
   "metadata": {},
   "outputs": [
    {
     "name": "stdout",
     "output_type": "stream",
     "text": [
      "0.49\n"
     ]
    }
   ],
   "source": [
    "import pandas as pd\n",
    "import numpy as np\n",
    "import random\n",
    "\n",
    "def load_data(path, rate = 0.8):\n",
    "    ''' Making dataSet\n",
    "    Args:\n",
    "        path: DataSet file path.\n",
    "        rate: TrainSet percentage.\n",
    "    Returns:\n",
    "        trainSet: Training set.\n",
    "        trainLabel: Training label.\n",
    "        testSet: Test set.\n",
    "        testLabel: Test label.\n",
    "    '''\n",
    "    data = pd.read_csv(path)\n",
    "    randIndex = random.sample(range(0, len(data)), len(data))\n",
    "    trainSet = data.loc[randIndex[:int(len(data) * rate)]]\n",
    "    testSet = data.loc[randIndex[int(len(data) * rate):]]\n",
    "    trainLabel = trainSet['name']\n",
    "    testLabel = testSet['name']\n",
    "    trainSet.drop('name', axis=1, inplace=True)\n",
    "    testSet.drop('name', axis=1, inplace=True)\n",
    "    return np.array(trainSet), np.array(trainLabel), np.array(testSet), np.array(testLabel)\n",
    "\n",
    "def euclideanDistance(instance1, instance2):\n",
    "    ''' Calculate two-point Euclidean distance\n",
    "    Args:\n",
    "        instance1: Numpy array type training set.\n",
    "        instance2: The element of test set.\n",
    "    Returns:\n",
    "        distance: The distance of instance2 to instance1, the type is list.\n",
    "    '''\n",
    "    distance = []\n",
    "    for instance in instance1:\n",
    "        temp = np.subtract(instance, instance2)\n",
    "        temp = np.power(temp, 2)\n",
    "        temp = temp.sum()\n",
    "        distance.append(np.sqrt(temp))\n",
    "    return distance\n",
    "\n",
    "def getNeighbors(distance, label, k):\n",
    "    ''' Calculate k-nearest element\n",
    "    Args:\n",
    "        distance: Return by euclideanDistance function.\n",
    "        label: Training label.\n",
    "        k: k-nearest\n",
    "    Returns:\n",
    "        neighbors: The k-nearest elements.\n",
    "    '''\n",
    "    df = pd.DataFrame()\n",
    "    df['distance'] = distance\n",
    "    df['label'] = label\n",
    "    neighbors = df.sort_values(by='distance').reset_index()\n",
    "    return neighbors.loc[:k-1]\n",
    "\n",
    "def getResult(neighbors):\n",
    "    neighbors = neighbors['label'].value_counts()\n",
    "    neighbors = pd.Series(neighbors).sort_values(ascending=False).reset_index()\n",
    "    return neighbors['index'][0]\n",
    "\n",
    "def getAccuracy(testData, testLabel, trainSet, trainLabel):\n",
    "    ''' Calculate accuracy percentage.\n",
    "    Args:\n",
    "        testData: Numpy array of test set.\n",
    "        testLabel: Numpy array of test labels.\n",
    "        trainSet: Numpy array of train set.\n",
    "        trainLabel: Numpy array of train labels.\n",
    "    Returns:\n",
    "        score/len(trainLabel)\n",
    "    '''\n",
    "    score = 0\n",
    "    i = 0\n",
    "    for instance in testData:\n",
    "        distance = euclideanDistance(trainSet, instance)\n",
    "        neighbors = getNeighbors(distance, trainLabel, 5)\n",
    "        result = getResult(neighbors)\n",
    "        if result == testLabel[i]:\n",
    "            score += 1\n",
    "        i += 1\n",
    "    return score/len(trainLabel)\n",
    "\n",
    "if  __name__ == \"__main__\":\n",
    "    trainData, trainLabel, testData, testLabel = load_data(\"code/irisdata.txt\", 0.67)\n",
    "    print(getAccuracy(np.array(testData), np.array(testLabel), np.array(trainData), np.array(trainLabel)))\n"
   ]
  },
  {
   "cell_type": "code",
   "execution_count": null,
   "metadata": {
    "collapsed": true
   },
   "outputs": [],
   "source": []
  }
 ],
 "metadata": {
  "kernelspec": {
   "display_name": "Python 3",
   "language": "python",
   "name": "python3"
  },
  "language_info": {
   "codemirror_mode": {
    "name": "ipython",
    "version": 3
   },
   "file_extension": ".py",
   "mimetype": "text/x-python",
   "name": "python",
   "nbconvert_exporter": "python",
   "pygments_lexer": "ipython3",
   "version": "3.5.4"
  }
 },
 "nbformat": 4,
 "nbformat_minor": 2
}
